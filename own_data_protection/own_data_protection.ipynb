{
 "cells": [
  {
   "cell_type": "markdown",
   "metadata": {
    "toc": true
   },
   "source": [
    "<h1>Содержание<span class=\"tocSkip\"></span></h1>\n",
    "<div class=\"toc\"><ul class=\"toc-item\"><li><span><a href=\"#Загрузка-данных\" data-toc-modified-id=\"Загрузка-данных-1\"><span class=\"toc-item-num\">1&nbsp;&nbsp;</span>Загрузка данных</a></span></li><li><span><a href=\"#Умножение-матриц\" data-toc-modified-id=\"Умножение-матриц-2\"><span class=\"toc-item-num\">2&nbsp;&nbsp;</span>Умножение матриц</a></span></li><li><span><a href=\"#Алгоритм-преобразования\" data-toc-modified-id=\"Алгоритм-преобразования-3\"><span class=\"toc-item-num\">3&nbsp;&nbsp;</span>Алгоритм преобразования</a></span></li><li><span><a href=\"#Проверка-алгоритма\" data-toc-modified-id=\"Проверка-алгоритма-4\"><span class=\"toc-item-num\">4&nbsp;&nbsp;</span>Проверка алгоритма</a></span><ul class=\"toc-item\"><li><span><a href=\"#Подготовка-данных-для-обучения-модели-и-предсказаний\" data-toc-modified-id=\"Подготовка-данных-для-обучения-модели-и-предсказаний-4.1\"><span class=\"toc-item-num\">4.1&nbsp;&nbsp;</span>Подготовка данных для обучения модели и предсказаний</a></span></li><li><span><a href=\"#Определение-среднего-значения-метрики-качества-прогноза-до-преобразования-данных\" data-toc-modified-id=\"Определение-среднего-значения-метрики-качества-прогноза-до-преобразования-данных-4.2\"><span class=\"toc-item-num\">4.2&nbsp;&nbsp;</span>Определение среднего значения метрики качества прогноза до преобразования данных</a></span></li><li><span><a href=\"#Определение-среднего-значения-метрики-качества-прогноза-после-преобразования-данных\" data-toc-modified-id=\"Определение-среднего-значения-метрики-качества-прогноза-после-преобразования-данных-4.3\"><span class=\"toc-item-num\">4.3&nbsp;&nbsp;</span>Определение среднего значения метрики качества прогноза после преобразования данных</a></span></li><li><span><a href=\"#Определение-разницы-в-средних-метриках-(R2)-прогнозов-до-и-после-преобразования-матрицы-признаков\" data-toc-modified-id=\"Определение-разницы-в-средних-метриках-(R2)-прогнозов-до-и-после-преобразования-матрицы-признаков-4.4\"><span class=\"toc-item-num\">4.4&nbsp;&nbsp;</span>Определение разницы в средних метриках (R2) прогнозов до и после преобразования матрицы признаков</a></span></li><li><span><a href=\"#Вывод\" data-toc-modified-id=\"Вывод-4.5\"><span class=\"toc-item-num\">4.5&nbsp;&nbsp;</span>Вывод</a></span></li></ul></li><li><span><a href=\"#Общий-вывод\" data-toc-modified-id=\"Общий-вывод-5\"><span class=\"toc-item-num\">5&nbsp;&nbsp;</span>Общий вывод</a></span></li></ul></div>"
   ]
  },
  {
   "cell_type": "markdown",
   "metadata": {},
   "source": [
    "# Защита персональных данных клиентов"
   ]
  },
  {
   "cell_type": "markdown",
   "metadata": {},
   "source": [
    "В интересах страховой компании необходимо разработать такой метод преобразования данных, чтобы по ним было сложно восстановить персональную информацию. Обоснуйте корректность его работы.\n",
    "\n",
    "Нужно защитить данные, чтобы при преобразовании качество моделей машинного обучения не ухудшилось. Подбирать наилучшую модель не требуется."
   ]
  },
  {
   "cell_type": "markdown",
   "metadata": {},
   "source": [
    "## Загрузка данных"
   ]
  },
  {
   "cell_type": "code",
   "execution_count": 1,
   "metadata": {},
   "outputs": [],
   "source": [
    "import numpy as np  #импорт необходимых методов и библиотек\n",
    "import pandas as pd\n",
    "\n",
    "from sklearn.linear_model import LinearRegression\n",
    "from sklearn.model_selection import cross_val_score"
   ]
  },
  {
   "cell_type": "markdown",
   "metadata": {},
   "source": [
    "Произведем чтение предоставленного файла и ознакомимся с составом и структурой представленных данных."
   ]
  },
  {
   "cell_type": "code",
   "execution_count": 2,
   "metadata": {},
   "outputs": [],
   "source": [
    "df = pd.read_csv(r'C:\\Users\\lebeda\\Yandex_Practicum\\Yandex_projects\\data_sets\\prjkt_10(sp13)\\insurance.csv') #чтение файла исходных данных"
   ]
  },
  {
   "cell_type": "code",
   "execution_count": 3,
   "metadata": {},
   "outputs": [
    {
     "data": {
      "text/plain": [
       "(5000, 5)"
      ]
     },
     "execution_count": 3,
     "metadata": {},
     "output_type": "execute_result"
    }
   ],
   "source": [
    "df.shape #размерность таблицы"
   ]
  },
  {
   "cell_type": "code",
   "execution_count": 4,
   "metadata": {},
   "outputs": [
    {
     "name": "stdout",
     "output_type": "stream",
     "text": [
      "<class 'pandas.core.frame.DataFrame'>\n",
      "RangeIndex: 5000 entries, 0 to 4999\n",
      "Data columns (total 5 columns):\n",
      "Пол                  5000 non-null int64\n",
      "Возраст              5000 non-null float64\n",
      "Зарплата             5000 non-null float64\n",
      "Члены семьи          5000 non-null int64\n",
      "Страховые выплаты    5000 non-null int64\n",
      "dtypes: float64(2), int64(3)\n",
      "memory usage: 195.4 KB\n"
     ]
    }
   ],
   "source": [
    "df.info()"
   ]
  },
  {
   "cell_type": "code",
   "execution_count": 5,
   "metadata": {},
   "outputs": [
    {
     "data": {
      "text/html": [
       "<div>\n",
       "<style scoped>\n",
       "    .dataframe tbody tr th:only-of-type {\n",
       "        vertical-align: middle;\n",
       "    }\n",
       "\n",
       "    .dataframe tbody tr th {\n",
       "        vertical-align: top;\n",
       "    }\n",
       "\n",
       "    .dataframe thead th {\n",
       "        text-align: right;\n",
       "    }\n",
       "</style>\n",
       "<table border=\"1\" class=\"dataframe\">\n",
       "  <thead>\n",
       "    <tr style=\"text-align: right;\">\n",
       "      <th></th>\n",
       "      <th>Пол</th>\n",
       "      <th>Возраст</th>\n",
       "      <th>Зарплата</th>\n",
       "      <th>Члены семьи</th>\n",
       "      <th>Страховые выплаты</th>\n",
       "    </tr>\n",
       "  </thead>\n",
       "  <tbody>\n",
       "    <tr>\n",
       "      <th>0</th>\n",
       "      <td>1</td>\n",
       "      <td>41.0</td>\n",
       "      <td>49600.0</td>\n",
       "      <td>1</td>\n",
       "      <td>0</td>\n",
       "    </tr>\n",
       "    <tr>\n",
       "      <th>1</th>\n",
       "      <td>0</td>\n",
       "      <td>46.0</td>\n",
       "      <td>38000.0</td>\n",
       "      <td>1</td>\n",
       "      <td>1</td>\n",
       "    </tr>\n",
       "    <tr>\n",
       "      <th>2</th>\n",
       "      <td>0</td>\n",
       "      <td>29.0</td>\n",
       "      <td>21000.0</td>\n",
       "      <td>0</td>\n",
       "      <td>0</td>\n",
       "    </tr>\n",
       "    <tr>\n",
       "      <th>3</th>\n",
       "      <td>0</td>\n",
       "      <td>21.0</td>\n",
       "      <td>41700.0</td>\n",
       "      <td>2</td>\n",
       "      <td>0</td>\n",
       "    </tr>\n",
       "    <tr>\n",
       "      <th>4</th>\n",
       "      <td>1</td>\n",
       "      <td>28.0</td>\n",
       "      <td>26100.0</td>\n",
       "      <td>0</td>\n",
       "      <td>0</td>\n",
       "    </tr>\n",
       "  </tbody>\n",
       "</table>\n",
       "</div>"
      ],
      "text/plain": [
       "   Пол  Возраст  Зарплата  Члены семьи  Страховые выплаты\n",
       "0    1     41.0   49600.0            1                  0\n",
       "1    0     46.0   38000.0            1                  1\n",
       "2    0     29.0   21000.0            0                  0\n",
       "3    0     21.0   41700.0            2                  0\n",
       "4    1     28.0   26100.0            0                  0"
      ]
     },
     "execution_count": 5,
     "metadata": {},
     "output_type": "execute_result"
    }
   ],
   "source": [
    "df.head()"
   ]
  },
  {
   "cell_type": "code",
   "execution_count": 6,
   "metadata": {},
   "outputs": [
    {
     "data": {
      "text/plain": [
       "153"
      ]
     },
     "execution_count": 6,
     "metadata": {},
     "output_type": "execute_result"
    }
   ],
   "source": [
    "df.duplicated().sum() #колличество полных дубликатов"
   ]
  },
  {
   "cell_type": "code",
   "execution_count": 7,
   "metadata": {},
   "outputs": [
    {
     "data": {
      "text/html": [
       "<div>\n",
       "<style scoped>\n",
       "    .dataframe tbody tr th:only-of-type {\n",
       "        vertical-align: middle;\n",
       "    }\n",
       "\n",
       "    .dataframe tbody tr th {\n",
       "        vertical-align: top;\n",
       "    }\n",
       "\n",
       "    .dataframe thead th {\n",
       "        text-align: right;\n",
       "    }\n",
       "</style>\n",
       "<table border=\"1\" class=\"dataframe\">\n",
       "  <thead>\n",
       "    <tr style=\"text-align: right;\">\n",
       "      <th></th>\n",
       "      <th>Пол</th>\n",
       "      <th>Возраст</th>\n",
       "      <th>Зарплата</th>\n",
       "      <th>Члены семьи</th>\n",
       "      <th>Страховые выплаты</th>\n",
       "    </tr>\n",
       "  </thead>\n",
       "  <tbody>\n",
       "    <tr>\n",
       "      <th>count</th>\n",
       "      <td>5000.000000</td>\n",
       "      <td>5000.000000</td>\n",
       "      <td>5000.000000</td>\n",
       "      <td>5000.000000</td>\n",
       "      <td>5000.000000</td>\n",
       "    </tr>\n",
       "    <tr>\n",
       "      <th>mean</th>\n",
       "      <td>0.499000</td>\n",
       "      <td>30.952800</td>\n",
       "      <td>39916.360000</td>\n",
       "      <td>1.194200</td>\n",
       "      <td>0.148000</td>\n",
       "    </tr>\n",
       "    <tr>\n",
       "      <th>std</th>\n",
       "      <td>0.500049</td>\n",
       "      <td>8.440807</td>\n",
       "      <td>9900.083569</td>\n",
       "      <td>1.091387</td>\n",
       "      <td>0.463183</td>\n",
       "    </tr>\n",
       "    <tr>\n",
       "      <th>min</th>\n",
       "      <td>0.000000</td>\n",
       "      <td>18.000000</td>\n",
       "      <td>5300.000000</td>\n",
       "      <td>0.000000</td>\n",
       "      <td>0.000000</td>\n",
       "    </tr>\n",
       "    <tr>\n",
       "      <th>25%</th>\n",
       "      <td>0.000000</td>\n",
       "      <td>24.000000</td>\n",
       "      <td>33300.000000</td>\n",
       "      <td>0.000000</td>\n",
       "      <td>0.000000</td>\n",
       "    </tr>\n",
       "    <tr>\n",
       "      <th>50%</th>\n",
       "      <td>0.000000</td>\n",
       "      <td>30.000000</td>\n",
       "      <td>40200.000000</td>\n",
       "      <td>1.000000</td>\n",
       "      <td>0.000000</td>\n",
       "    </tr>\n",
       "    <tr>\n",
       "      <th>75%</th>\n",
       "      <td>1.000000</td>\n",
       "      <td>37.000000</td>\n",
       "      <td>46600.000000</td>\n",
       "      <td>2.000000</td>\n",
       "      <td>0.000000</td>\n",
       "    </tr>\n",
       "    <tr>\n",
       "      <th>max</th>\n",
       "      <td>1.000000</td>\n",
       "      <td>65.000000</td>\n",
       "      <td>79000.000000</td>\n",
       "      <td>6.000000</td>\n",
       "      <td>5.000000</td>\n",
       "    </tr>\n",
       "  </tbody>\n",
       "</table>\n",
       "</div>"
      ],
      "text/plain": [
       "               Пол      Возраст      Зарплата  Члены семьи  Страховые выплаты\n",
       "count  5000.000000  5000.000000   5000.000000  5000.000000        5000.000000\n",
       "mean      0.499000    30.952800  39916.360000     1.194200           0.148000\n",
       "std       0.500049     8.440807   9900.083569     1.091387           0.463183\n",
       "min       0.000000    18.000000   5300.000000     0.000000           0.000000\n",
       "25%       0.000000    24.000000  33300.000000     0.000000           0.000000\n",
       "50%       0.000000    30.000000  40200.000000     1.000000           0.000000\n",
       "75%       1.000000    37.000000  46600.000000     2.000000           0.000000\n",
       "max       1.000000    65.000000  79000.000000     6.000000           5.000000"
      ]
     },
     "execution_count": 7,
     "metadata": {},
     "output_type": "execute_result"
    }
   ],
   "source": [
    "df.describe() #описательные статистики "
   ]
  },
  {
   "cell_type": "markdown",
   "metadata": {},
   "source": [
    "Приведем значения столбцов 'Возраст' и  'Зарплата' к целочисленному типу данных."
   ]
  },
  {
   "cell_type": "code",
   "execution_count": 8,
   "metadata": {
    "scrolled": true
   },
   "outputs": [],
   "source": [
    "df['Возраст']  = df['Возраст'].astype(int)\n",
    "df['Зарплата']  = df['Зарплата'].astype(int)"
   ]
  },
  {
   "cell_type": "markdown",
   "metadata": {},
   "source": [
    "**Вывод**\n",
    "\n",
    "Предоставленные данные - таблица содержащая 5000 строк и 5 столцов с информацией о клиентах страховой компании (пол, возраст, зарплата, количество членов семьи, страховые выалаты). Данные представленные числовым типом - вещественные и целые числа. В таблице присутствует 153 строки с полными дубликатами данных, однако данные не содержат признаков - уникальных идентификаторов клиента, поэтому говорить, что дубликаты - это повторяющаяся информация об одном клиенте некорректно.\n"
   ]
  },
  {
   "cell_type": "markdown",
   "metadata": {},
   "source": [
    "## Умножение матриц"
   ]
  },
  {
   "cell_type": "markdown",
   "metadata": {},
   "source": [
    "Докажем утверждение, что **умножение матрицы признаков на обратимую матрицу не изменит качество предсказания линейной регресии.**"
   ]
  },
  {
   "cell_type": "markdown",
   "metadata": {},
   "source": [
    "Обозначения:\n",
    "\n",
    "- $X$ — матрица признаков (нулевой столбец состоит из единиц)\n",
    "\n",
    "- $y$ — вектор целевого признака\n",
    "\n",
    "- $P$ — матрица, на которую умножаются признаки\n",
    "\n",
    "- $w$ — вектор весов линейной регрессии (нулевой элемент равен сдвигу)"
   ]
  },
  {
   "cell_type": "markdown",
   "metadata": {},
   "source": [
    "Предсказания:\n",
    "\n",
    "$$\n",
    "a = Xw\n",
    "$$\n",
    "\n",
    "Задача обучения:\n",
    "\n",
    "$$\n",
    "w = \\arg\\min_w MSE(Xw, y)\n",
    "$$\n",
    "\n",
    "Формула обучения:\n",
    "\n",
    "$$\n",
    "w = (X^T X)^{-1} X^T y\n",
    "$$\n"
   ]
  },
  {
   "cell_type": "markdown",
   "metadata": {},
   "source": [
    "\n",
    "**Обоснование:** \n",
    "\n",
    "Запишем обновленные вектор предсказаний и вектор весов линейной регресии ($a_1$ и $w_1$ соответственно) через произведение матрицы признаков на произвольную обратную матрицу $P$:\n",
    "\n",
    "\n",
    "$$\n",
    "a_1 = XPw_1\n",
    "$$\n",
    "\n",
    "$$\n",
    "w_1 = ((XP)^T XP)^{-1} (XP)^T y\n",
    "$$\n",
    "\n",
    "Используя развернутую запись вектора весов запишим выражение для вектора предсказаний:\n",
    "\n",
    "$$\n",
    "a_1 = XP\\underline{((XP)^T(XP))^{-1}} (XP)^T y\n",
    "$$\n",
    "\n",
    "Далее, с учетом понятий и свойств единичной и обратной матриц (порядок транспонирования произведения матриц, обратная матрица произведения двух матриц, свойства ассоциативности матрицы), проведем последовательно ряд преобразований полученного выражения (для наглядности в приведенных преобразованиях на каждом шаге подчеркнута преобразуемая часть выражения):\n",
    "\n",
    "$$\n",
    "a_1 = XP(\\underline{((XP)^TX)}P)^{-1}(XP)^T y\n",
    "$$\n",
    "\n",
    "$$\n",
    "a_1 = X\\underline{PP^{-1}}(\\underline{(XP)^T}X))^{-1}(XP)^T y\n",
    "$$\n",
    "\n",
    "$$\n",
    "a_1 = X\\underline{E}(P^T\\underline{(X^TX)})^{-1}(XP)^T y\n",
    "$$\n",
    "\n",
    "\n",
    "$$\n",
    "a_1 = X(X^TX)^{-1}(P^T)^{-1}\\underline{(XP)^T} y\n",
    "$$\n",
    "\n",
    "$$\n",
    "a_1 = X(X^TX)^{-1}\\underline{(P^T)^{-1}P^T}X^T y\n",
    "$$\n",
    "\n",
    "\n",
    "$$\n",
    "a_1 = X(X^TX)^{-1}\\underline{E}X^T y\n",
    "$$\n",
    "\n",
    "\n",
    "$$\n",
    "a_1 = X\\underline{(X^TX)^{-1} X^T}y\n",
    "$$\n",
    "\n",
    "$$\n",
    "a_1 = X\\underline{w}\n",
    "$$\n",
    "\n",
    "$$\n",
    "a_1 = a\n",
    "$$\n"
   ]
  },
  {
   "cell_type": "markdown",
   "metadata": {},
   "source": [
    "Как видно из полученных преобразований, выражение для получение предсказаний при умножении матрицы признаков на любую произвольную обратимую матрицу (с учетом размерности матрицы признаков) полностью сооответсвует выражению для получения предсказаний на исходной матрице признаков.\n",
    "\n",
    "\n",
    "\n",
    "**Вывод**\n",
    "\n",
    "Качество предсказаний линейной регресии при умножении матрицы признаков на обратимую матрицу не изменяется."
   ]
  },
  {
   "cell_type": "markdown",
   "metadata": {},
   "source": [
    "## Алгоритм преобразования"
   ]
  },
  {
   "cell_type": "markdown",
   "metadata": {},
   "source": [
    "**Предлагаемый алгоритм преобразования данныx**\n",
    "\n",
    "Предлагаемый алгоритм преобразования данных заключается в следующем: предоставляемая таблица признаков $X$, содержащая личные данные клиентов, размерностью $[n, m]$ перемножается на случайно сгенерированную обратимую матрицу $P$ размерностью $[n, n]$, которая проходит проверку на обратимость (определитель матрицы должен быть неравен нулю $det(P)  !=  0$) при каждом новом возникновении случая необходимости использовать личные данные для получения прогноза. Полученная закодированная матрица личных данных $Xcrypt$ используется в дальнейшем процессе получения прогнозных данных.  "
   ]
  },
  {
   "attachments": {
    "image-5.png": {
     "image/png": "[encoded data removed]"
    }
   },
   "cell_type": "markdown",
   "metadata": {},
   "source": [
    "![image-5.png](attachment:image-5.png)"
   ]
  },
  {
   "cell_type": "markdown",
   "metadata": {},
   "source": [
    "**Обоснование предложенного алгоритма**\n",
    "\n",
    "Основой для предказаний целевого признака (количества страховых выплат) является матрица признаков, содержащая личные данные клиентов. Использование и передача подобной инфорации в открытом некодированном виде может превести к негативным последствиям как для клиента, так и для самой страховой компании. Шифрование личных данных поредством перемножения матрицы с личными данными на произвольную обратимую матрицу признаков (с учетом размерности матрицы) при каждом случае необходимости её использования не окажет влияние на конечный результат процесса (собственно предсказание количества страховых выплат), но, в случае утечки личных данных в зашифрованном виде, они будут дополнительно защищены, так как их восстановление из произведения матриц диктует необходимость наличия ключа - конкертную произвольно сгенерированную на данном этапе обратимую матрицу. Вероятно, получение такой матрицы является сложным и трудозатратным процессом."
   ]
  },
  {
   "cell_type": "markdown",
   "metadata": {},
   "source": [
    "## Проверка алгоритма"
   ]
  },
  {
   "cell_type": "markdown",
   "metadata": {},
   "source": [
    "### Подготовка данных для обучения модели и предсказаний"
   ]
  },
  {
   "cell_type": "markdown",
   "metadata": {},
   "source": [
    "Подготовим данные для обучения модели и предсказаний, выделим из таблицы признаки и целевые признаки."
   ]
  },
  {
   "cell_type": "code",
   "execution_count": 9,
   "metadata": {},
   "outputs": [],
   "source": [
    "df_features= df.drop('Страховые выплаты', axis = 1)\n",
    "df_target = df['Страховые выплаты']"
   ]
  },
  {
   "cell_type": "markdown",
   "metadata": {},
   "source": [
    "Проведем проверку предложенного алгоритма. Обучим модель линейной регрессии на исходных данных. Определеим среднее заначение метрики качествa (R2) прогноза посредством кроссвалидации до преобразования признаков и после преобразования согласно предложенному алгоритму."
   ]
  },
  {
   "cell_type": "code",
   "execution_count": 10,
   "metadata": {
    "scrolled": true
   },
   "outputs": [
    {
     "data": {
      "text/plain": [
       "LinearRegression()"
      ]
     },
     "execution_count": 10,
     "metadata": {},
     "output_type": "execute_result"
    }
   ],
   "source": [
    "model = LinearRegression() # обучение модели\n",
    "model.fit(df_features, df_target)"
   ]
  },
  {
   "cell_type": "markdown",
   "metadata": {},
   "source": [
    "Проведем проверку предложенного алгоритма. Обучим модель линейной регрессии на исходных данных. Определим среднее значение метрики качествa (R2) прогноза посредством кроссвалидации до преобразования признаков и после преобразования согласно предложенному алгоритму."
   ]
  },
  {
   "cell_type": "markdown",
   "metadata": {},
   "source": [
    "### Определение среднего значения метрики качества прогноза до преобразования данных"
   ]
  },
  {
   "cell_type": "code",
   "execution_count": 11,
   "metadata": {},
   "outputs": [
    {
     "data": {
      "text/plain": [
       "0.4231137692077539"
      ]
     },
     "execution_count": 11,
     "metadata": {},
     "output_type": "execute_result"
    }
   ],
   "source": [
    "r2_before_crypt = cross_val_score(model, df_features, df_target,  cv=5).mean()\n",
    "r2_before_crypt"
   ]
  },
  {
   "cell_type": "markdown",
   "metadata": {},
   "source": [
    "### Определение среднего значения метрики качества прогноза после преобразования данных"
   ]
  },
  {
   "cell_type": "markdown",
   "metadata": {},
   "source": [
    "***Реализация алгоритма преобразования матрицы исходных признаков***"
   ]
  },
  {
   "cell_type": "markdown",
   "metadata": {},
   "source": [
    "_Создание произвольной обратимой матрицы заданной размерности._"
   ]
  },
  {
   "cell_type": "markdown",
   "metadata": {},
   "source": [
    "Создадим случайную матрицу заданной размерности по закону нормального распределения, вероятность того, что такая матица будет необратимой близка к нулю."
   ]
  },
  {
   "cell_type": "code",
   "execution_count": 12,
   "metadata": {
    "scrolled": true
   },
   "outputs": [
    {
     "data": {
      "text/plain": [
       "(4, 4)"
      ]
     },
     "execution_count": 12,
     "metadata": {},
     "output_type": "execute_result"
    }
   ],
   "source": [
    "# цикл подбора обратимой матрицы заданной размерности с учетом проверки условия обратимости (неравенство дискриминанта нулю)\n",
    "\n",
    "for i in range (100): \n",
    "    p = np.random.normal(size = (df_features.shape[1], df_features.shape[1]))\n",
    "    if np.linalg.det(p) != 0: \n",
    "        break\n",
    "p.shape"
   ]
  },
  {
   "cell_type": "code",
   "execution_count": 13,
   "metadata": {},
   "outputs": [
    {
     "data": {
      "text/plain": [
       "array([[ 1.28204533,  1.55176845, -0.8243064 , -1.09098219],\n",
       "       [-1.35319792,  0.52012349,  0.99683441,  0.29450357],\n",
       "       [ 0.69981519,  0.96392318, -0.0336865 ,  0.362021  ],\n",
       "       [ 0.40723574, -0.46846173,  0.39928108,  0.81204763]])"
      ]
     },
     "execution_count": 13,
     "metadata": {},
     "output_type": "execute_result"
    }
   ],
   "source": [
    "p #кодирующая матрица"
   ]
  },
  {
   "cell_type": "markdown",
   "metadata": {},
   "source": [
    "_Получение зашифрованной матрицы признаков._"
   ]
  },
  {
   "cell_type": "code",
   "execution_count": 14,
   "metadata": {},
   "outputs": [
    {
     "data": {
      "text/plain": [
       "(5000, 4)"
      ]
     },
     "execution_count": 14,
     "metadata": {},
     "output_type": "execute_result"
    }
   ],
   "source": [
    "x_crypt = df_features.dot(p)\n",
    "x_crypt.shape"
   ]
  },
  {
   "cell_type": "code",
   "execution_count": 15,
   "metadata": {
    "scrolled": true
   },
   "outputs": [
    {
     "name": "stdout",
     "output_type": "stream",
     "text": [
      "<class 'pandas.core.frame.DataFrame'>\n",
      "RangeIndex: 5000 entries, 0 to 4999\n",
      "Data columns (total 4 columns):\n",
      "0    5000 non-null float64\n",
      "1    5000 non-null float64\n",
      "2    5000 non-null float64\n",
      "3    5000 non-null float64\n",
      "dtypes: float64(4)\n",
      "memory usage: 156.4 KB\n"
     ]
    }
   ],
   "source": [
    "x_crypt.info() #информация о зашифрованной матрице с личными данными"
   ]
  },
  {
   "cell_type": "code",
   "execution_count": 16,
   "metadata": {
    "scrolled": true
   },
   "outputs": [
    {
     "data": {
      "text/html": [
       "<div>\n",
       "<style scoped>\n",
       "    .dataframe tbody tr th:only-of-type {\n",
       "        vertical-align: middle;\n",
       "    }\n",
       "\n",
       "    .dataframe tbody tr th {\n",
       "        vertical-align: top;\n",
       "    }\n",
       "\n",
       "    .dataframe thead th {\n",
       "        text-align: right;\n",
       "    }\n",
       "</style>\n",
       "<table border=\"1\" class=\"dataframe\">\n",
       "  <thead>\n",
       "    <tr style=\"text-align: right;\">\n",
       "      <th></th>\n",
       "      <th>0</th>\n",
       "      <th>1</th>\n",
       "      <th>2</th>\n",
       "      <th>3</th>\n",
       "    </tr>\n",
       "  </thead>\n",
       "  <tbody>\n",
       "    <tr>\n",
       "      <th>0</th>\n",
       "      <td>34657.041721</td>\n",
       "      <td>47832.998085</td>\n",
       "      <td>-1630.405321</td>\n",
       "      <td>17968.037292</td>\n",
       "    </tr>\n",
       "    <tr>\n",
       "      <th>1</th>\n",
       "      <td>26531.137452</td>\n",
       "      <td>36652.538049</td>\n",
       "      <td>-1233.833417</td>\n",
       "      <td>13771.157196</td>\n",
       "    </tr>\n",
       "    <tr>\n",
       "      <th>2</th>\n",
       "      <td>14656.876306</td>\n",
       "      <td>20257.470356</td>\n",
       "      <td>-678.508347</td>\n",
       "      <td>7610.981595</td>\n",
       "    </tr>\n",
       "    <tr>\n",
       "      <th>3</th>\n",
       "      <td>29154.690848</td>\n",
       "      <td>40205.582265</td>\n",
       "      <td>-1382.995054</td>\n",
       "      <td>15104.084353</td>\n",
       "    </tr>\n",
       "    <tr>\n",
       "      <th>4</th>\n",
       "      <td>18228.569031</td>\n",
       "      <td>25174.510218</td>\n",
       "      <td>-852.130649</td>\n",
       "      <td>9455.903207</td>\n",
       "    </tr>\n",
       "  </tbody>\n",
       "</table>\n",
       "</div>"
      ],
      "text/plain": [
       "              0             1            2             3\n",
       "0  34657.041721  47832.998085 -1630.405321  17968.037292\n",
       "1  26531.137452  36652.538049 -1233.833417  13771.157196\n",
       "2  14656.876306  20257.470356  -678.508347   7610.981595\n",
       "3  29154.690848  40205.582265 -1382.995054  15104.084353\n",
       "4  18228.569031  25174.510218  -852.130649   9455.903207"
      ]
     },
     "execution_count": 16,
     "metadata": {},
     "output_type": "execute_result"
    }
   ],
   "source": [
    "x_crypt.head() #пример отображения зашифрованной матрицы"
   ]
  },
  {
   "cell_type": "markdown",
   "metadata": {},
   "source": [
    "Содержание полученной матрицы никоим образом не соответсвует исходнымм данным, содержащимся в матрице с личными данными клиентов - данные зашифрованы."
   ]
  },
  {
   "cell_type": "code",
   "execution_count": 17,
   "metadata": {},
   "outputs": [
    {
     "data": {
      "text/plain": [
       "0.4231137692077773"
      ]
     },
     "execution_count": 17,
     "metadata": {},
     "output_type": "execute_result"
    }
   ],
   "source": [
    "r2_after_crypt = cross_val_score(model, x_crypt, df_target,  cv=5).mean()\n",
    "r2_after_crypt"
   ]
  },
  {
   "cell_type": "markdown",
   "metadata": {},
   "source": [
    "### Определение разницы в средних метриках (R2) прогнозов до и после преобразования матрицы признаков"
   ]
  },
  {
   "cell_type": "code",
   "execution_count": 18,
   "metadata": {},
   "outputs": [
    {
     "data": {
      "text/plain": [
       "-2.3425705819590803e-14"
      ]
     },
     "execution_count": 18,
     "metadata": {},
     "output_type": "execute_result"
    }
   ],
   "source": [
    "dif_r2 = r2_before_crypt - r2_after_crypt \n",
    "dif_r2"
   ]
  },
  {
   "cell_type": "markdown",
   "metadata": {},
   "source": [
    "Как видно из полученных данных, разница в среднем значении метрики R2 прогноза между данными до и после преобразования черезвычайно мала и может быть интерпритирована как погрешность вычислений. Следовательно факт того, что умножение матрицы признаков на обратимую матрицу не влияет на качество прогноза модели, можно считать доказанным. "
   ]
  },
  {
   "cell_type": "markdown",
   "metadata": {},
   "source": [
    "### Вывод\n",
    "\n",
    "Предложенный алгоритм преобразования исходной матрицы признаков последством произвольной обратимой матрицы заданной размерности доказал свою работоспоспособность, качество прогноза при преобразовании данных не меняется. "
   ]
  },
  {
   "cell_type": "markdown",
   "metadata": {},
   "source": [
    "## Общий вывод\n",
    "\n",
    "Исходные данные: таблица, содержащая личную информацию клиентов страховой компании (пол, возраст, заработная плата, количество членов семьи, количество страховых выплат за последние 5 лет). Данные используются для получения прогноза о предполагаемом количестве выплат клиентам компании.\n",
    "\n",
    "Поставленная задача: разработать метод преобразования данных, позволяющий защитить персональную информацию таким образом, чтобы не удшилось качество прогноза.\n",
    "\n",
    "В ходе реализации проекта за базовый способ защиты информации был выбран метод умножения матрицы признаков, содержащую личную информацию, на произвольную обратимую матрицу.\n",
    "\n",
    "В ходе теоретического анализа было доказано утверждение, что качество предсказаний линейной регрессии при умножении матрицы признаков на обратимую матрицу не изменяется.\n",
    "\n",
    "Предложен алгоритм преобразования данных, который заключается в следующем: предоставляемая таблица признаков  𝑋 , содержащая личные данные клиентов, размерностью  [𝑛,𝑚]  перемножается на случайно сгенерированную обратимую матрицу  𝑃  размерностью  [𝑛,𝑛]  при каждом новом возникновении случая необходимости использовать лчиные данные для получения прогноза. Полученная закодированная матрица личных данных  𝑋𝑐𝑟𝑦𝑝𝑡 (личные данные в исходном виде отсутсвуют) может быть использована в дальнейшем процессе получения прогнозных данных.\n",
    "\n",
    "Предложенный алгоритм был реализован и проверен на исходных данных путем сравнения среднего значения метрик R2 прогнозов на данных до и после преобразования - качество прогноза не меняется, преобразованная матрица признаков не содержит личных данных в исходном виде. Алгоритм работоспособен."
   ]
  },
  {
   "cell_type": "code",
   "execution_count": null,
   "metadata": {},
   "outputs": [],
   "source": []
  }
 ],
 "metadata": {
  "ExecuteTimeLog": [
   {
    "duration": 77,
    "start_time": "2022-04-07T12:59:40.637Z"
   },
   {
    "duration": 358,
    "start_time": "2022-04-07T12:59:46.256Z"
   },
   {
    "duration": 29,
    "start_time": "2022-04-07T12:59:46.727Z"
   },
   {
    "duration": 14,
    "start_time": "2022-04-07T12:59:47.287Z"
   },
   {
    "duration": 8,
    "start_time": "2022-04-07T13:01:34.358Z"
   },
   {
    "duration": 11,
    "start_time": "2022-04-07T13:01:50.265Z"
   },
   {
    "duration": 5,
    "start_time": "2022-04-07T13:02:18.424Z"
   },
   {
    "duration": 455,
    "start_time": "2022-04-09T18:58:46.206Z"
   },
   {
    "duration": 101,
    "start_time": "2022-04-09T19:01:37.452Z"
   },
   {
    "duration": 3,
    "start_time": "2022-04-09T19:01:44.299Z"
   },
   {
    "duration": 13,
    "start_time": "2022-04-09T19:01:44.309Z"
   },
   {
    "duration": 13,
    "start_time": "2022-04-09T19:01:44.325Z"
   },
   {
    "duration": 15,
    "start_time": "2022-04-09T19:01:44.340Z"
   },
   {
    "duration": 17,
    "start_time": "2022-04-09T19:01:44.358Z"
   },
   {
    "duration": 15,
    "start_time": "2022-04-09T19:01:44.378Z"
   },
   {
    "duration": 13,
    "start_time": "2022-04-09T19:01:44.395Z"
   },
   {
    "duration": 11,
    "start_time": "2022-04-09T19:01:58.100Z"
   },
   {
    "duration": 10,
    "start_time": "2022-04-09T19:02:11.300Z"
   },
   {
    "duration": 9,
    "start_time": "2022-04-09T19:02:30.620Z"
   },
   {
    "duration": 23,
    "start_time": "2022-04-09T19:03:31.512Z"
   },
   {
    "duration": 21,
    "start_time": "2022-04-09T19:06:44.680Z"
   },
   {
    "duration": 21,
    "start_time": "2022-04-09T19:07:47.503Z"
   },
   {
    "duration": 20,
    "start_time": "2022-04-09T19:08:12.319Z"
   },
   {
    "duration": 39,
    "start_time": "2022-04-09T19:09:52.661Z"
   },
   {
    "duration": 71,
    "start_time": "2022-04-10T13:39:49.815Z"
   },
   {
    "duration": 681,
    "start_time": "2022-04-10T13:39:54.702Z"
   },
   {
    "duration": 21,
    "start_time": "2022-04-10T13:39:55.387Z"
   },
   {
    "duration": 15,
    "start_time": "2022-04-10T13:39:55.411Z"
   },
   {
    "duration": 54,
    "start_time": "2022-04-10T13:39:55.431Z"
   },
   {
    "duration": 54,
    "start_time": "2022-04-10T13:39:55.488Z"
   },
   {
    "duration": 12,
    "start_time": "2022-04-10T13:39:55.545Z"
   },
   {
    "duration": 45,
    "start_time": "2022-04-10T13:39:55.561Z"
   },
   {
    "duration": 8,
    "start_time": "2022-04-10T13:39:55.609Z"
   },
   {
    "duration": 5,
    "start_time": "2022-04-10T13:41:26.652Z"
   },
   {
    "duration": 21,
    "start_time": "2022-04-10T13:41:32.645Z"
   },
   {
    "duration": 8,
    "start_time": "2022-04-10T13:42:01.316Z"
   },
   {
    "duration": 27,
    "start_time": "2022-04-10T13:42:04.718Z"
   },
   {
    "duration": 27,
    "start_time": "2022-04-10T13:42:14.977Z"
   },
   {
    "duration": 43,
    "start_time": "2022-04-10T14:42:22.422Z"
   },
   {
    "duration": 7,
    "start_time": "2022-04-10T14:42:29.180Z"
   },
   {
    "duration": 5,
    "start_time": "2022-04-10T14:44:57.865Z"
   },
   {
    "duration": 1453,
    "start_time": "2022-04-10T14:45:03.720Z"
   },
   {
    "duration": 102,
    "start_time": "2022-04-10T14:48:38.569Z"
   },
   {
    "duration": 11,
    "start_time": "2022-04-10T14:48:47.421Z"
   },
   {
    "duration": 18,
    "start_time": "2022-04-10T14:49:10.470Z"
   },
   {
    "duration": 22,
    "start_time": "2022-04-10T14:50:03.902Z"
   },
   {
    "duration": 16,
    "start_time": "2022-04-10T15:00:27.285Z"
   },
   {
    "duration": 4,
    "start_time": "2022-04-10T15:00:33.553Z"
   },
   {
    "duration": 25,
    "start_time": "2022-04-10T15:00:33.566Z"
   },
   {
    "duration": 7,
    "start_time": "2022-04-10T15:00:33.595Z"
   },
   {
    "duration": 20,
    "start_time": "2022-04-10T15:00:33.605Z"
   },
   {
    "duration": 13,
    "start_time": "2022-04-10T15:00:33.845Z"
   },
   {
    "duration": 10,
    "start_time": "2022-04-10T15:00:33.861Z"
   },
   {
    "duration": 32,
    "start_time": "2022-04-10T15:00:33.874Z"
   },
   {
    "duration": 17,
    "start_time": "2022-04-10T15:00:33.915Z"
   },
   {
    "duration": 6,
    "start_time": "2022-04-10T15:00:33.935Z"
   },
   {
    "duration": 51,
    "start_time": "2022-04-10T15:00:33.943Z"
   },
   {
    "duration": 4,
    "start_time": "2022-04-10T15:01:46.199Z"
   },
   {
    "duration": 4,
    "start_time": "2022-04-10T15:01:49.638Z"
   },
   {
    "duration": 18,
    "start_time": "2022-04-10T15:01:49.650Z"
   },
   {
    "duration": 5,
    "start_time": "2022-04-10T15:01:49.671Z"
   },
   {
    "duration": 19,
    "start_time": "2022-04-10T15:01:49.678Z"
   },
   {
    "duration": 12,
    "start_time": "2022-04-10T15:01:49.700Z"
   },
   {
    "duration": 12,
    "start_time": "2022-04-10T15:01:49.715Z"
   },
   {
    "duration": 76,
    "start_time": "2022-04-10T15:01:49.729Z"
   },
   {
    "duration": 17,
    "start_time": "2022-04-10T15:01:49.808Z"
   },
   {
    "duration": 12,
    "start_time": "2022-04-10T15:01:49.828Z"
   },
   {
    "duration": 76,
    "start_time": "2022-04-10T15:01:49.842Z"
   },
   {
    "duration": 1540,
    "start_time": "2022-04-10T15:02:12.375Z"
   },
   {
    "duration": 16,
    "start_time": "2022-04-10T15:02:13.918Z"
   },
   {
    "duration": 14,
    "start_time": "2022-04-10T15:02:13.936Z"
   },
   {
    "duration": 43,
    "start_time": "2022-04-10T15:02:13.954Z"
   },
   {
    "duration": 15,
    "start_time": "2022-04-10T15:02:13.999Z"
   },
   {
    "duration": 9,
    "start_time": "2022-04-10T15:02:14.016Z"
   },
   {
    "duration": 78,
    "start_time": "2022-04-10T15:02:14.027Z"
   },
   {
    "duration": 18,
    "start_time": "2022-04-10T15:02:14.107Z"
   },
   {
    "duration": 20,
    "start_time": "2022-04-10T15:02:14.127Z"
   },
   {
    "duration": 68,
    "start_time": "2022-04-10T15:02:14.150Z"
   },
   {
    "duration": 44,
    "start_time": "2022-04-10T15:09:06.083Z"
   },
   {
    "duration": 1115,
    "start_time": "2022-04-10T15:09:23.115Z"
   },
   {
    "duration": 154,
    "start_time": "2022-04-10T15:12:57.994Z"
   },
   {
    "duration": 6,
    "start_time": "2022-04-10T15:13:48.785Z"
   },
   {
    "duration": 6,
    "start_time": "2022-04-10T15:15:12.643Z"
   },
   {
    "duration": 151,
    "start_time": "2022-04-10T15:16:00.749Z"
   },
   {
    "duration": 7859,
    "start_time": "2022-04-10T15:16:14.821Z"
   },
   {
    "duration": 154,
    "start_time": "2022-04-10T15:21:01.443Z"
   },
   {
    "duration": 150,
    "start_time": "2022-04-10T15:21:13.006Z"
   },
   {
    "duration": 12423,
    "start_time": "2022-04-10T15:22:53.564Z"
   },
   {
    "duration": 9895,
    "start_time": "2022-04-10T15:48:52.107Z"
   },
   {
    "duration": 11628,
    "start_time": "2022-04-10T17:36:51.858Z"
   },
   {
    "duration": 60,
    "start_time": "2022-04-11T18:53:08.132Z"
   },
   {
    "duration": 0,
    "start_time": "2022-04-11T18:53:08.194Z"
   },
   {
    "duration": 0,
    "start_time": "2022-04-11T18:53:08.195Z"
   },
   {
    "duration": 0,
    "start_time": "2022-04-11T18:53:08.196Z"
   },
   {
    "duration": 1282,
    "start_time": "2022-04-11T18:53:19.016Z"
   },
   {
    "duration": 12,
    "start_time": "2022-04-11T18:53:20.300Z"
   },
   {
    "duration": 7,
    "start_time": "2022-04-11T18:53:20.314Z"
   },
   {
    "duration": 11,
    "start_time": "2022-04-11T18:53:20.323Z"
   },
   {
    "duration": 10,
    "start_time": "2022-04-11T18:53:20.337Z"
   },
   {
    "duration": 6,
    "start_time": "2022-04-11T18:53:20.348Z"
   },
   {
    "duration": 22,
    "start_time": "2022-04-11T18:53:20.355Z"
   },
   {
    "duration": 10,
    "start_time": "2022-04-11T18:53:20.378Z"
   },
   {
    "duration": 35,
    "start_time": "2022-04-11T18:53:20.390Z"
   },
   {
    "duration": 1107,
    "start_time": "2022-04-11T18:53:38.071Z"
   },
   {
    "duration": 13,
    "start_time": "2022-04-11T18:53:39.179Z"
   },
   {
    "duration": 7,
    "start_time": "2022-04-11T18:53:39.194Z"
   },
   {
    "duration": 15,
    "start_time": "2022-04-11T18:53:39.203Z"
   },
   {
    "duration": 10,
    "start_time": "2022-04-11T18:53:39.223Z"
   },
   {
    "duration": 5,
    "start_time": "2022-04-11T18:53:39.235Z"
   },
   {
    "duration": 20,
    "start_time": "2022-04-11T18:53:39.242Z"
   },
   {
    "duration": 10,
    "start_time": "2022-04-11T18:53:39.263Z"
   },
   {
    "duration": 5,
    "start_time": "2022-04-11T18:53:39.275Z"
   },
   {
    "duration": 56,
    "start_time": "2022-04-11T18:53:39.282Z"
   },
   {
    "duration": 3,
    "start_time": "2022-04-11T18:53:39.340Z"
   },
   {
    "duration": 141,
    "start_time": "2022-04-11T18:53:39.345Z"
   },
   {
    "duration": 17216,
    "start_time": "2022-04-11T18:53:39.488Z"
   },
   {
    "duration": 14,
    "start_time": "2022-04-11T19:11:48.000Z"
   },
   {
    "duration": 6,
    "start_time": "2022-04-11T19:30:38.526Z"
   },
   {
    "duration": 26,
    "start_time": "2022-04-11T19:32:36.324Z"
   },
   {
    "duration": 25,
    "start_time": "2022-04-11T19:32:46.200Z"
   },
   {
    "duration": 134,
    "start_time": "2022-04-11T19:34:21.978Z"
   },
   {
    "duration": 9,
    "start_time": "2022-04-11T19:36:08.629Z"
   },
   {
    "duration": 145,
    "start_time": "2022-04-11T19:36:19.916Z"
   },
   {
    "duration": 4,
    "start_time": "2022-04-11T19:36:32.060Z"
   },
   {
    "duration": 2,
    "start_time": "2022-04-11T19:40:51.441Z"
   },
   {
    "duration": 8,
    "start_time": "2022-04-11T19:41:58.845Z"
   },
   {
    "duration": 303,
    "start_time": "2022-04-11T19:42:05.328Z"
   },
   {
    "duration": 18533,
    "start_time": "2022-04-11T19:49:54.551Z"
   },
   {
    "duration": 17976,
    "start_time": "2022-04-11T19:50:51.529Z"
   },
   {
    "duration": 17856,
    "start_time": "2022-04-11T19:52:05.700Z"
   },
   {
    "duration": 29329,
    "start_time": "2022-04-11T19:56:02.295Z"
   },
   {
    "duration": 145,
    "start_time": "2022-04-11T19:57:53.046Z"
   },
   {
    "duration": 199,
    "start_time": "2022-04-11T19:58:18.161Z"
   },
   {
    "duration": 30172,
    "start_time": "2022-04-11T19:58:55.753Z"
   },
   {
    "duration": 1636,
    "start_time": "2022-04-11T19:59:53.817Z"
   },
   {
    "duration": 30686,
    "start_time": "2022-04-11T20:00:05.938Z"
   },
   {
    "duration": 209,
    "start_time": "2022-04-11T20:00:43.647Z"
   },
   {
    "duration": 278,
    "start_time": "2022-04-11T20:02:57.255Z"
   },
   {
    "duration": 28,
    "start_time": "2022-04-11T20:03:23.172Z"
   },
   {
    "duration": 328,
    "start_time": "2022-04-11T20:03:55.700Z"
   },
   {
    "duration": 331,
    "start_time": "2022-04-11T20:04:12.803Z"
   },
   {
    "duration": 200,
    "start_time": "2022-04-11T20:04:21.580Z"
   },
   {
    "duration": 201,
    "start_time": "2022-04-11T20:06:48.449Z"
   },
   {
    "duration": 8,
    "start_time": "2022-04-11T20:06:55.032Z"
   },
   {
    "duration": 4,
    "start_time": "2022-04-11T20:07:15.182Z"
   },
   {
    "duration": 208,
    "start_time": "2022-04-11T20:09:29.706Z"
   },
   {
    "duration": 202,
    "start_time": "2022-04-11T20:09:40.128Z"
   },
   {
    "duration": 4,
    "start_time": "2022-04-11T20:10:19.804Z"
   },
   {
    "duration": 6,
    "start_time": "2022-04-11T20:49:11.077Z"
   },
   {
    "duration": 4,
    "start_time": "2022-04-11T20:49:24.260Z"
   },
   {
    "duration": 6,
    "start_time": "2022-04-11T20:49:49.935Z"
   },
   {
    "duration": 15,
    "start_time": "2022-04-11T20:50:09.959Z"
   },
   {
    "duration": 4,
    "start_time": "2022-04-11T20:50:43.257Z"
   },
   {
    "duration": 3,
    "start_time": "2022-04-11T20:52:30.663Z"
   },
   {
    "duration": 1348,
    "start_time": "2022-04-11T20:52:37.390Z"
   },
   {
    "duration": 13,
    "start_time": "2022-04-11T20:52:38.740Z"
   },
   {
    "duration": 8,
    "start_time": "2022-04-11T20:52:38.754Z"
   },
   {
    "duration": 12,
    "start_time": "2022-04-11T20:52:38.764Z"
   },
   {
    "duration": 10,
    "start_time": "2022-04-11T20:52:38.778Z"
   },
   {
    "duration": 7,
    "start_time": "2022-04-11T20:52:38.790Z"
   },
   {
    "duration": 42,
    "start_time": "2022-04-11T20:52:38.799Z"
   },
   {
    "duration": 10,
    "start_time": "2022-04-11T20:52:38.843Z"
   },
   {
    "duration": 4,
    "start_time": "2022-04-11T20:52:38.855Z"
   },
   {
    "duration": 8,
    "start_time": "2022-04-11T20:52:38.861Z"
   },
   {
    "duration": 57,
    "start_time": "2022-04-11T20:52:38.871Z"
   },
   {
    "duration": 6,
    "start_time": "2022-04-11T20:52:38.930Z"
   },
   {
    "duration": 15,
    "start_time": "2022-04-11T20:52:38.938Z"
   },
   {
    "duration": 100,
    "start_time": "2022-04-11T20:52:39.024Z"
   },
   {
    "duration": 4,
    "start_time": "2022-04-11T20:52:39.126Z"
   },
   {
    "duration": 4,
    "start_time": "2022-04-11T20:55:05.133Z"
   },
   {
    "duration": 3,
    "start_time": "2022-04-11T20:55:48.385Z"
   },
   {
    "duration": 6,
    "start_time": "2022-04-11T20:55:52.286Z"
   },
   {
    "duration": 1039,
    "start_time": "2022-04-11T20:59:03.663Z"
   },
   {
    "duration": 12,
    "start_time": "2022-04-11T20:59:04.704Z"
   },
   {
    "duration": 7,
    "start_time": "2022-04-11T20:59:04.717Z"
   },
   {
    "duration": 11,
    "start_time": "2022-04-11T20:59:04.726Z"
   },
   {
    "duration": 9,
    "start_time": "2022-04-11T20:59:04.738Z"
   },
   {
    "duration": 5,
    "start_time": "2022-04-11T20:59:04.749Z"
   },
   {
    "duration": 19,
    "start_time": "2022-04-11T20:59:04.755Z"
   },
   {
    "duration": 10,
    "start_time": "2022-04-11T20:59:04.776Z"
   },
   {
    "duration": 5,
    "start_time": "2022-04-11T20:59:04.787Z"
   },
   {
    "duration": 39,
    "start_time": "2022-04-11T20:59:04.794Z"
   },
   {
    "duration": 25,
    "start_time": "2022-04-11T20:59:04.834Z"
   },
   {
    "duration": 8,
    "start_time": "2022-04-11T20:59:04.860Z"
   },
   {
    "duration": 55,
    "start_time": "2022-04-11T20:59:04.870Z"
   },
   {
    "duration": 16,
    "start_time": "2022-04-11T20:59:04.927Z"
   },
   {
    "duration": 5,
    "start_time": "2022-04-11T20:59:05.023Z"
   },
   {
    "duration": 1047,
    "start_time": "2022-04-11T20:59:35.771Z"
   },
   {
    "duration": 13,
    "start_time": "2022-04-11T20:59:36.820Z"
   },
   {
    "duration": 7,
    "start_time": "2022-04-11T20:59:36.834Z"
   },
   {
    "duration": 10,
    "start_time": "2022-04-11T20:59:36.843Z"
   },
   {
    "duration": 9,
    "start_time": "2022-04-11T20:59:36.855Z"
   },
   {
    "duration": 5,
    "start_time": "2022-04-11T20:59:36.865Z"
   },
   {
    "duration": 20,
    "start_time": "2022-04-11T20:59:36.871Z"
   },
   {
    "duration": 36,
    "start_time": "2022-04-11T20:59:36.892Z"
   },
   {
    "duration": 4,
    "start_time": "2022-04-11T20:59:36.929Z"
   },
   {
    "duration": 7,
    "start_time": "2022-04-11T20:59:36.935Z"
   },
   {
    "duration": 24,
    "start_time": "2022-04-11T20:59:36.943Z"
   },
   {
    "duration": 5,
    "start_time": "2022-04-11T20:59:36.968Z"
   },
   {
    "duration": 53,
    "start_time": "2022-04-11T20:59:36.975Z"
   },
   {
    "duration": 95,
    "start_time": "2022-04-11T20:59:37.029Z"
   },
   {
    "duration": 4,
    "start_time": "2022-04-11T20:59:37.125Z"
   },
   {
    "duration": 5,
    "start_time": "2022-04-11T21:00:26.266Z"
   },
   {
    "duration": 6,
    "start_time": "2022-04-11T21:00:59.221Z"
   },
   {
    "duration": 5,
    "start_time": "2022-04-11T21:01:50.944Z"
   },
   {
    "duration": 1049,
    "start_time": "2022-04-11T21:02:41.758Z"
   },
   {
    "duration": 17,
    "start_time": "2022-04-11T21:02:42.809Z"
   },
   {
    "duration": 8,
    "start_time": "2022-04-11T21:02:42.828Z"
   },
   {
    "duration": 15,
    "start_time": "2022-04-11T21:02:42.838Z"
   },
   {
    "duration": 8,
    "start_time": "2022-04-11T21:02:42.855Z"
   },
   {
    "duration": 5,
    "start_time": "2022-04-11T21:02:42.865Z"
   },
   {
    "duration": 19,
    "start_time": "2022-04-11T21:02:42.871Z"
   },
   {
    "duration": 38,
    "start_time": "2022-04-11T21:02:42.891Z"
   },
   {
    "duration": 4,
    "start_time": "2022-04-11T21:02:42.930Z"
   },
   {
    "duration": 11,
    "start_time": "2022-04-11T21:02:42.936Z"
   },
   {
    "duration": 26,
    "start_time": "2022-04-11T21:02:42.949Z"
   },
   {
    "duration": 4,
    "start_time": "2022-04-11T21:02:42.976Z"
   },
   {
    "duration": 55,
    "start_time": "2022-04-11T21:02:42.982Z"
   },
   {
    "duration": 94,
    "start_time": "2022-04-11T21:02:43.039Z"
   },
   {
    "duration": 4,
    "start_time": "2022-04-11T21:02:43.134Z"
   },
   {
    "duration": 4,
    "start_time": "2022-04-11T21:05:42.659Z"
   },
   {
    "duration": 5,
    "start_time": "2022-04-11T21:08:42.559Z"
   },
   {
    "duration": 5,
    "start_time": "2022-04-11T21:09:19.637Z"
   },
   {
    "duration": 26,
    "start_time": "2022-04-11T21:09:26.323Z"
   },
   {
    "duration": 3,
    "start_time": "2022-04-11T21:16:47.797Z"
   },
   {
    "duration": 4,
    "start_time": "2022-04-11T21:16:59.953Z"
   },
   {
    "duration": 4,
    "start_time": "2022-04-11T21:18:56.937Z"
   },
   {
    "duration": 4,
    "start_time": "2022-04-11T21:19:51.304Z"
   },
   {
    "duration": 4,
    "start_time": "2022-04-11T21:20:16.562Z"
   },
   {
    "duration": 5,
    "start_time": "2022-04-11T21:20:28.008Z"
   },
   {
    "duration": 5,
    "start_time": "2022-04-11T21:21:35.498Z"
   },
   {
    "duration": 26,
    "start_time": "2022-04-11T21:24:05.261Z"
   },
   {
    "duration": 26,
    "start_time": "2022-04-11T21:24:14.398Z"
   },
   {
    "duration": 2,
    "start_time": "2022-04-11T21:24:15.628Z"
   },
   {
    "duration": 4,
    "start_time": "2022-04-11T21:24:28.178Z"
   },
   {
    "duration": 1027,
    "start_time": "2022-04-11T21:24:43.368Z"
   },
   {
    "duration": 13,
    "start_time": "2022-04-11T21:24:44.396Z"
   },
   {
    "duration": 7,
    "start_time": "2022-04-11T21:24:44.411Z"
   },
   {
    "duration": 12,
    "start_time": "2022-04-11T21:24:44.420Z"
   },
   {
    "duration": 10,
    "start_time": "2022-04-11T21:24:44.433Z"
   },
   {
    "duration": 5,
    "start_time": "2022-04-11T21:24:44.444Z"
   },
   {
    "duration": 22,
    "start_time": "2022-04-11T21:24:44.450Z"
   },
   {
    "duration": 4,
    "start_time": "2022-04-11T21:24:44.473Z"
   },
   {
    "duration": 7,
    "start_time": "2022-04-11T21:24:44.478Z"
   },
   {
    "duration": 12,
    "start_time": "2022-04-11T21:24:44.487Z"
   },
   {
    "duration": 40,
    "start_time": "2022-04-11T21:24:44.500Z"
   },
   {
    "duration": 3,
    "start_time": "2022-04-11T21:24:44.542Z"
   },
   {
    "duration": 6,
    "start_time": "2022-04-11T21:24:44.547Z"
   },
   {
    "duration": 112,
    "start_time": "2022-04-11T21:24:44.554Z"
   },
   {
    "duration": 0,
    "start_time": "2022-04-11T21:24:44.667Z"
   },
   {
    "duration": 1050,
    "start_time": "2022-04-11T21:25:02.268Z"
   },
   {
    "duration": 13,
    "start_time": "2022-04-11T21:25:03.320Z"
   },
   {
    "duration": 11,
    "start_time": "2022-04-11T21:25:03.334Z"
   },
   {
    "duration": 14,
    "start_time": "2022-04-11T21:25:03.347Z"
   },
   {
    "duration": 10,
    "start_time": "2022-04-11T21:25:03.363Z"
   },
   {
    "duration": 5,
    "start_time": "2022-04-11T21:25:03.375Z"
   },
   {
    "duration": 19,
    "start_time": "2022-04-11T21:25:03.382Z"
   },
   {
    "duration": 25,
    "start_time": "2022-04-11T21:25:03.402Z"
   },
   {
    "duration": 7,
    "start_time": "2022-04-11T21:25:03.428Z"
   },
   {
    "duration": 7,
    "start_time": "2022-04-11T21:25:03.437Z"
   },
   {
    "duration": 27,
    "start_time": "2022-04-11T21:25:03.446Z"
   },
   {
    "duration": 4,
    "start_time": "2022-04-11T21:25:03.475Z"
   },
   {
    "duration": 5,
    "start_time": "2022-04-11T21:25:03.480Z"
   },
   {
    "duration": 56,
    "start_time": "2022-04-11T21:25:03.486Z"
   },
   {
    "duration": 4,
    "start_time": "2022-04-11T21:25:03.544Z"
   },
   {
    "duration": 5,
    "start_time": "2022-04-11T21:27:30.120Z"
   },
   {
    "duration": 1076,
    "start_time": "2022-04-11T21:27:54.437Z"
   },
   {
    "duration": 13,
    "start_time": "2022-04-11T21:27:55.515Z"
   },
   {
    "duration": 8,
    "start_time": "2022-04-11T21:27:55.530Z"
   },
   {
    "duration": 12,
    "start_time": "2022-04-11T21:27:55.541Z"
   },
   {
    "duration": 10,
    "start_time": "2022-04-11T21:27:55.555Z"
   },
   {
    "duration": 6,
    "start_time": "2022-04-11T21:27:55.567Z"
   },
   {
    "duration": 53,
    "start_time": "2022-04-11T21:27:55.574Z"
   },
   {
    "duration": 5,
    "start_time": "2022-04-11T21:27:55.629Z"
   },
   {
    "duration": 5,
    "start_time": "2022-04-11T21:27:55.636Z"
   },
   {
    "duration": 8,
    "start_time": "2022-04-11T21:27:55.644Z"
   },
   {
    "duration": 25,
    "start_time": "2022-04-11T21:27:55.654Z"
   },
   {
    "duration": 4,
    "start_time": "2022-04-11T21:27:55.681Z"
   },
   {
    "duration": 39,
    "start_time": "2022-04-11T21:27:55.687Z"
   },
   {
    "duration": 7,
    "start_time": "2022-04-11T21:27:55.728Z"
   },
   {
    "duration": 109,
    "start_time": "2022-04-11T21:27:55.736Z"
   },
   {
    "duration": 3,
    "start_time": "2022-04-11T21:27:55.847Z"
   },
   {
    "duration": 4,
    "start_time": "2022-04-11T21:28:28.325Z"
   },
   {
    "duration": 4,
    "start_time": "2022-04-11T21:34:27.227Z"
   },
   {
    "duration": 86,
    "start_time": "2022-04-11T21:34:41.475Z"
   },
   {
    "duration": 4,
    "start_time": "2022-04-11T21:37:33.550Z"
   },
   {
    "duration": 5,
    "start_time": "2022-04-11T21:37:40.115Z"
   },
   {
    "duration": 4,
    "start_time": "2022-04-11T21:37:41.600Z"
   },
   {
    "duration": 26,
    "start_time": "2022-04-11T21:37:47.588Z"
   },
   {
    "duration": 3,
    "start_time": "2022-04-11T21:37:48.516Z"
   },
   {
    "duration": 1072,
    "start_time": "2022-04-11T21:37:56.475Z"
   },
   {
    "duration": 12,
    "start_time": "2022-04-11T21:37:57.549Z"
   },
   {
    "duration": 6,
    "start_time": "2022-04-11T21:37:57.563Z"
   },
   {
    "duration": 11,
    "start_time": "2022-04-11T21:37:57.570Z"
   },
   {
    "duration": 9,
    "start_time": "2022-04-11T21:37:57.583Z"
   },
   {
    "duration": 5,
    "start_time": "2022-04-11T21:37:57.593Z"
   },
   {
    "duration": 34,
    "start_time": "2022-04-11T21:37:57.599Z"
   },
   {
    "duration": 4,
    "start_time": "2022-04-11T21:37:57.634Z"
   },
   {
    "duration": 6,
    "start_time": "2022-04-11T21:37:57.639Z"
   },
   {
    "duration": 8,
    "start_time": "2022-04-11T21:37:57.646Z"
   },
   {
    "duration": 25,
    "start_time": "2022-04-11T21:37:57.656Z"
   },
   {
    "duration": 3,
    "start_time": "2022-04-11T21:37:57.683Z"
   },
   {
    "duration": 36,
    "start_time": "2022-04-11T21:37:57.688Z"
   },
   {
    "duration": 6,
    "start_time": "2022-04-11T21:37:57.727Z"
   },
   {
    "duration": 104,
    "start_time": "2022-04-11T21:37:57.735Z"
   },
   {
    "duration": 4,
    "start_time": "2022-04-11T21:37:57.841Z"
   },
   {
    "duration": 4,
    "start_time": "2022-04-11T21:40:54.461Z"
   },
   {
    "duration": 4,
    "start_time": "2022-04-11T21:41:31.446Z"
   },
   {
    "duration": 4,
    "start_time": "2022-04-11T21:41:40.215Z"
   },
   {
    "duration": 3,
    "start_time": "2022-04-11T21:41:41.388Z"
   },
   {
    "duration": 5,
    "start_time": "2022-04-11T21:49:44.545Z"
   },
   {
    "duration": 4,
    "start_time": "2022-04-11T21:49:46.048Z"
   },
   {
    "duration": 4,
    "start_time": "2022-04-11T21:49:48.299Z"
   },
   {
    "duration": 25,
    "start_time": "2022-04-11T21:49:49.796Z"
   },
   {
    "duration": 4,
    "start_time": "2022-04-11T21:49:50.850Z"
   },
   {
    "duration": 10,
    "start_time": "2022-04-11T22:08:25.257Z"
   },
   {
    "duration": 8,
    "start_time": "2022-04-11T22:09:05.990Z"
   },
   {
    "duration": 7,
    "start_time": "2022-04-11T22:10:57.581Z"
   },
   {
    "duration": 8,
    "start_time": "2022-04-11T22:13:37.926Z"
   },
   {
    "duration": 1048,
    "start_time": "2022-04-11T22:37:39.737Z"
   },
   {
    "duration": 17,
    "start_time": "2022-04-11T22:37:40.787Z"
   },
   {
    "duration": 7,
    "start_time": "2022-04-11T22:37:40.806Z"
   },
   {
    "duration": 12,
    "start_time": "2022-04-11T22:37:40.815Z"
   },
   {
    "duration": 9,
    "start_time": "2022-04-11T22:37:40.829Z"
   },
   {
    "duration": 5,
    "start_time": "2022-04-11T22:37:40.839Z"
   },
   {
    "duration": 21,
    "start_time": "2022-04-11T22:37:40.845Z"
   },
   {
    "duration": 3,
    "start_time": "2022-04-11T22:37:40.867Z"
   },
   {
    "duration": 6,
    "start_time": "2022-04-11T22:37:40.872Z"
   },
   {
    "duration": 7,
    "start_time": "2022-04-11T22:37:40.880Z"
   },
   {
    "duration": 54,
    "start_time": "2022-04-11T22:37:40.888Z"
   },
   {
    "duration": 4,
    "start_time": "2022-04-11T22:37:40.944Z"
   },
   {
    "duration": 6,
    "start_time": "2022-04-11T22:37:40.949Z"
   },
   {
    "duration": 9,
    "start_time": "2022-04-11T22:37:40.957Z"
   },
   {
    "duration": 7,
    "start_time": "2022-04-11T22:37:40.967Z"
   },
   {
    "duration": 49,
    "start_time": "2022-04-11T22:37:40.975Z"
   },
   {
    "duration": 4,
    "start_time": "2022-04-11T22:37:41.025Z"
   },
   {
    "duration": 1042,
    "start_time": "2022-04-12T04:04:06.071Z"
   },
   {
    "duration": 12,
    "start_time": "2022-04-12T04:04:07.115Z"
   },
   {
    "duration": 7,
    "start_time": "2022-04-12T04:04:07.129Z"
   },
   {
    "duration": 15,
    "start_time": "2022-04-12T04:04:07.138Z"
   },
   {
    "duration": 11,
    "start_time": "2022-04-12T04:04:07.156Z"
   },
   {
    "duration": 6,
    "start_time": "2022-04-12T04:04:07.168Z"
   },
   {
    "duration": 51,
    "start_time": "2022-04-12T04:04:07.176Z"
   },
   {
    "duration": 5,
    "start_time": "2022-04-12T04:04:07.229Z"
   },
   {
    "duration": 6,
    "start_time": "2022-04-12T04:04:07.235Z"
   },
   {
    "duration": 8,
    "start_time": "2022-04-12T04:04:07.242Z"
   },
   {
    "duration": 26,
    "start_time": "2022-04-12T04:04:07.251Z"
   },
   {
    "duration": 5,
    "start_time": "2022-04-12T04:04:07.278Z"
   },
   {
    "duration": 40,
    "start_time": "2022-04-12T04:04:07.285Z"
   },
   {
    "duration": 13,
    "start_time": "2022-04-12T04:04:07.328Z"
   },
   {
    "duration": 9,
    "start_time": "2022-04-12T04:04:07.343Z"
   },
   {
    "duration": 25,
    "start_time": "2022-04-12T04:04:07.354Z"
   },
   {
    "duration": 3,
    "start_time": "2022-04-12T04:04:07.381Z"
   },
   {
    "duration": 43,
    "start_time": "2022-04-12T08:26:24.668Z"
   },
   {
    "duration": 1070,
    "start_time": "2022-04-12T08:26:31.223Z"
   },
   {
    "duration": 11,
    "start_time": "2022-04-12T08:26:32.295Z"
   },
   {
    "duration": 8,
    "start_time": "2022-04-12T08:26:32.308Z"
   },
   {
    "duration": 13,
    "start_time": "2022-04-12T08:26:32.318Z"
   },
   {
    "duration": 12,
    "start_time": "2022-04-12T08:26:32.334Z"
   },
   {
    "duration": 6,
    "start_time": "2022-04-12T08:26:32.347Z"
   },
   {
    "duration": 25,
    "start_time": "2022-04-12T08:26:32.355Z"
   },
   {
    "duration": 3,
    "start_time": "2022-04-12T08:26:32.382Z"
   },
   {
    "duration": 8,
    "start_time": "2022-04-12T08:26:32.387Z"
   },
   {
    "duration": 26,
    "start_time": "2022-04-12T08:26:32.397Z"
   },
   {
    "duration": 28,
    "start_time": "2022-04-12T08:26:32.425Z"
   },
   {
    "duration": 4,
    "start_time": "2022-04-12T08:26:32.454Z"
   },
   {
    "duration": 6,
    "start_time": "2022-04-12T08:26:32.460Z"
   },
   {
    "duration": 9,
    "start_time": "2022-04-12T08:26:32.468Z"
   },
   {
    "duration": 7,
    "start_time": "2022-04-12T08:26:32.478Z"
   },
   {
    "duration": 57,
    "start_time": "2022-04-12T08:26:32.487Z"
   },
   {
    "duration": 3,
    "start_time": "2022-04-12T08:26:32.546Z"
   },
   {
    "duration": 5,
    "start_time": "2022-04-12T08:30:29.707Z"
   },
   {
    "duration": 5,
    "start_time": "2022-04-12T08:30:38.291Z"
   },
   {
    "duration": 5,
    "start_time": "2022-04-12T08:31:22.559Z"
   },
   {
    "duration": 4,
    "start_time": "2022-04-12T08:33:24.845Z"
   },
   {
    "duration": 5,
    "start_time": "2022-04-12T08:43:27.888Z"
   },
   {
    "duration": 4,
    "start_time": "2022-04-12T08:44:38.198Z"
   },
   {
    "duration": 1122,
    "start_time": "2022-04-12T12:30:33.391Z"
   },
   {
    "duration": 11,
    "start_time": "2022-04-12T12:30:34.515Z"
   },
   {
    "duration": 8,
    "start_time": "2022-04-12T12:30:34.528Z"
   },
   {
    "duration": 12,
    "start_time": "2022-04-12T12:30:34.537Z"
   },
   {
    "duration": 11,
    "start_time": "2022-04-12T12:30:34.551Z"
   },
   {
    "duration": 5,
    "start_time": "2022-04-12T12:30:34.563Z"
   },
   {
    "duration": 20,
    "start_time": "2022-04-12T12:30:34.570Z"
   },
   {
    "duration": 4,
    "start_time": "2022-04-12T12:30:34.591Z"
   },
   {
    "duration": 4,
    "start_time": "2022-04-12T12:30:34.623Z"
   },
   {
    "duration": 8,
    "start_time": "2022-04-12T12:30:34.630Z"
   },
   {
    "duration": 25,
    "start_time": "2022-04-12T12:30:34.640Z"
   },
   {
    "duration": 4,
    "start_time": "2022-04-12T12:30:34.667Z"
   },
   {
    "duration": 10,
    "start_time": "2022-04-12T12:30:34.672Z"
   },
   {
    "duration": 6,
    "start_time": "2022-04-12T12:30:34.684Z"
   },
   {
    "duration": 36,
    "start_time": "2022-04-12T12:30:34.691Z"
   },
   {
    "duration": 7,
    "start_time": "2022-04-12T12:30:34.729Z"
   },
   {
    "duration": 29,
    "start_time": "2022-04-12T12:30:34.737Z"
   },
   {
    "duration": 3,
    "start_time": "2022-04-12T12:30:34.768Z"
   },
   {
    "duration": 6,
    "start_time": "2022-04-12T12:32:12.263Z"
   },
   {
    "duration": 8,
    "start_time": "2022-04-12T12:32:12.270Z"
   },
   {
    "duration": 3,
    "start_time": "2022-04-12T12:32:12.280Z"
   },
   {
    "duration": 12,
    "start_time": "2022-04-12T12:32:12.284Z"
   },
   {
    "duration": 27,
    "start_time": "2022-04-12T12:32:12.297Z"
   },
   {
    "duration": 9,
    "start_time": "2022-04-12T12:32:12.326Z"
   },
   {
    "duration": 22,
    "start_time": "2022-04-12T12:32:12.337Z"
   },
   {
    "duration": 3,
    "start_time": "2022-04-12T12:32:12.360Z"
   },
   {
    "duration": 6,
    "start_time": "2022-04-12T12:32:12.365Z"
   },
   {
    "duration": 7,
    "start_time": "2022-04-12T12:32:12.373Z"
   },
   {
    "duration": 45,
    "start_time": "2022-04-12T12:32:12.381Z"
   },
   {
    "duration": 4,
    "start_time": "2022-04-12T12:32:12.427Z"
   },
   {
    "duration": 12,
    "start_time": "2022-04-12T12:32:12.433Z"
   },
   {
    "duration": 11,
    "start_time": "2022-04-12T12:32:12.446Z"
   },
   {
    "duration": 10,
    "start_time": "2022-04-12T12:32:12.458Z"
   },
   {
    "duration": 7,
    "start_time": "2022-04-12T12:32:12.469Z"
   },
   {
    "duration": 25,
    "start_time": "2022-04-12T12:32:12.477Z"
   },
   {
    "duration": 20,
    "start_time": "2022-04-12T12:32:12.504Z"
   }
  ],
  "kernelspec": {
   "display_name": "Python 3 (ipykernel)",
   "language": "python",
   "name": "python3"
  },
  "language_info": {
   "codemirror_mode": {
    "name": "ipython",
    "version": 3
   },
   "file_extension": ".py",
   "mimetype": "text/x-python",
   "name": "python",
   "nbconvert_exporter": "python",
   "pygments_lexer": "ipython3",
   "version": "3.7.8"
  },
  "toc": {
   "base_numbering": 1,
   "nav_menu": {},
   "number_sections": true,
   "sideBar": true,
   "skip_h1_title": true,
   "title_cell": "Содержание",
   "title_sidebar": "Contents",
   "toc_cell": true,
   "toc_position": {},
   "toc_section_display": true,
   "toc_window_display": true
  }
 },
 "nbformat": 4,
 "nbformat_minor": 2
}
